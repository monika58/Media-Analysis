{
 "cells": [
  {
   "cell_type": "markdown",
   "id": "b0cd10b8-c459-48ec-96dd-a72dd7b7129b",
   "metadata": {},
   "source": [
    "# Import Libraries"
   ]
  },
  {
   "cell_type": "code",
   "execution_count": 17,
   "id": "417b374b-d873-40a8-9825-482f2e6aa920",
   "metadata": {},
   "outputs": [],
   "source": [
    "import torch\n",
    "from torch.utils.data import TensorDataset, DataLoader, RandomSampler, SequentialSampler\n",
    "from transformers import BertTokenizer, BertForSequenceClassification\n",
    "from sklearn.model_selection import train_test_split\n",
    "import pandas as pd\n",
    "import numpy as np\n",
    "from tqdm import trange\n",
    "import random"
   ]
  },
  {
   "cell_type": "markdown",
   "id": "b313cb56-c367-4856-93c5-8623310fd489",
   "metadata": {},
   "source": [
    "# Kaggle Dataset - Media Biasness"
   ]
  },
  {
   "cell_type": "code",
   "execution_count": 5,
   "id": "0f51bb0b-a3c2-42d5-9116-a03ce325bca2",
   "metadata": {},
   "outputs": [],
   "source": [
    "news_data = pd.read_excel(r\"C:\\Users\\DesignHub\\Documents\\Monika\\Projects\\News_polarity_analysis\\annotations.xlsx\")"
   ]
  },
  {
   "cell_type": "code",
   "execution_count": 7,
   "id": "4f99ac60-396a-4a14-9856-0b085e5f817e",
   "metadata": {},
   "outputs": [
    {
     "data": {
      "text/html": [
       "<div>\n",
       "<style scoped>\n",
       "    .dataframe tbody tr th:only-of-type {\n",
       "        vertical-align: middle;\n",
       "    }\n",
       "\n",
       "    .dataframe tbody tr th {\n",
       "        vertical-align: top;\n",
       "    }\n",
       "\n",
       "    .dataframe thead th {\n",
       "        text-align: right;\n",
       "    }\n",
       "</style>\n",
       "<table border=\"1\" class=\"dataframe\">\n",
       "  <thead>\n",
       "    <tr style=\"text-align: right;\">\n",
       "      <th></th>\n",
       "      <th>Unnamed: 0.1</th>\n",
       "      <th>Unnamed: 0</th>\n",
       "      <th>survey_record_id</th>\n",
       "      <th>sentence_id</th>\n",
       "      <th>sentence_group_id</th>\n",
       "      <th>created_at</th>\n",
       "      <th>label</th>\n",
       "      <th>words</th>\n",
       "      <th>factual</th>\n",
       "      <th>group_id</th>\n",
       "      <th>...</th>\n",
       "      <th>outlet</th>\n",
       "      <th>mturk_id</th>\n",
       "      <th>age</th>\n",
       "      <th>gender</th>\n",
       "      <th>education</th>\n",
       "      <th>native_english_speaker</th>\n",
       "      <th>political_ideology</th>\n",
       "      <th>followed_news_outlets</th>\n",
       "      <th>news_check_frequency</th>\n",
       "      <th>survey_completed</th>\n",
       "    </tr>\n",
       "  </thead>\n",
       "  <tbody>\n",
       "    <tr>\n",
       "      <th>0</th>\n",
       "      <td>0</td>\n",
       "      <td>19227</td>\n",
       "      <td>0045473f40ec42a2bd2ca0ee35df0b75</td>\n",
       "      <td>06e9e57e549d4dd48d8ac649ff81fd2e</td>\n",
       "      <td>67</td>\n",
       "      <td>2020-08-12 06:09:53</td>\n",
       "      <td>Non-biased</td>\n",
       "      <td>NaN</td>\n",
       "      <td>Entirely factual</td>\n",
       "      <td>67</td>\n",
       "      <td>...</td>\n",
       "      <td>breitbart</td>\n",
       "      <td>Jonathan Daniel Garavito</td>\n",
       "      <td>29</td>\n",
       "      <td>Male</td>\n",
       "      <td>Bachelor’s degree</td>\n",
       "      <td>Native speaker</td>\n",
       "      <td>7</td>\n",
       "      <td>['ABC News', 'MSNBC']</td>\n",
       "      <td>Every day</td>\n",
       "      <td>True</td>\n",
       "    </tr>\n",
       "    <tr>\n",
       "      <th>1</th>\n",
       "      <td>1</td>\n",
       "      <td>19228</td>\n",
       "      <td>0045473f40ec42a2bd2ca0ee35df0b75</td>\n",
       "      <td>07f2137fd3ae4dd2b5c990b93e5c2a62</td>\n",
       "      <td>67</td>\n",
       "      <td>2020-08-12 06:10:21</td>\n",
       "      <td>Non-biased</td>\n",
       "      <td>NaN</td>\n",
       "      <td>Expresses writer’s opinion</td>\n",
       "      <td>67</td>\n",
       "      <td>...</td>\n",
       "      <td>alternet</td>\n",
       "      <td>Jonathan Daniel Garavito</td>\n",
       "      <td>29</td>\n",
       "      <td>Male</td>\n",
       "      <td>Bachelor’s degree</td>\n",
       "      <td>Native speaker</td>\n",
       "      <td>7</td>\n",
       "      <td>['ABC News', 'MSNBC']</td>\n",
       "      <td>Every day</td>\n",
       "      <td>True</td>\n",
       "    </tr>\n",
       "    <tr>\n",
       "      <th>2</th>\n",
       "      <td>2</td>\n",
       "      <td>19229</td>\n",
       "      <td>0045473f40ec42a2bd2ca0ee35df0b75</td>\n",
       "      <td>10a5e68a84ab4c1a83d861b87c57def9</td>\n",
       "      <td>67</td>\n",
       "      <td>2020-08-12 06:10:35</td>\n",
       "      <td>Non-biased</td>\n",
       "      <td>NaN</td>\n",
       "      <td>Somewhat factual but also opinionated</td>\n",
       "      <td>67</td>\n",
       "      <td>...</td>\n",
       "      <td>msnbc</td>\n",
       "      <td>Jonathan Daniel Garavito</td>\n",
       "      <td>29</td>\n",
       "      <td>Male</td>\n",
       "      <td>Bachelor’s degree</td>\n",
       "      <td>Native speaker</td>\n",
       "      <td>7</td>\n",
       "      <td>['ABC News', 'MSNBC']</td>\n",
       "      <td>Every day</td>\n",
       "      <td>True</td>\n",
       "    </tr>\n",
       "    <tr>\n",
       "      <th>3</th>\n",
       "      <td>3</td>\n",
       "      <td>19231</td>\n",
       "      <td>0045473f40ec42a2bd2ca0ee35df0b75</td>\n",
       "      <td>17e77a14ecaa478fa81cf80e10f92e50</td>\n",
       "      <td>67</td>\n",
       "      <td>2020-08-12 06:10:51</td>\n",
       "      <td>Non-biased</td>\n",
       "      <td>NaN</td>\n",
       "      <td>Expresses writer’s opinion</td>\n",
       "      <td>67</td>\n",
       "      <td>...</td>\n",
       "      <td>breitbart</td>\n",
       "      <td>Jonathan Daniel Garavito</td>\n",
       "      <td>29</td>\n",
       "      <td>Male</td>\n",
       "      <td>Bachelor’s degree</td>\n",
       "      <td>Native speaker</td>\n",
       "      <td>7</td>\n",
       "      <td>['ABC News', 'MSNBC']</td>\n",
       "      <td>Every day</td>\n",
       "      <td>True</td>\n",
       "    </tr>\n",
       "    <tr>\n",
       "      <th>4</th>\n",
       "      <td>4</td>\n",
       "      <td>19232</td>\n",
       "      <td>0045473f40ec42a2bd2ca0ee35df0b75</td>\n",
       "      <td>251232bf6ddf4bcbac7fb40a8aec1964</td>\n",
       "      <td>67</td>\n",
       "      <td>2020-08-12 06:11:04</td>\n",
       "      <td>Non-biased</td>\n",
       "      <td>NaN</td>\n",
       "      <td>Expresses writer’s opinion</td>\n",
       "      <td>67</td>\n",
       "      <td>...</td>\n",
       "      <td>federalist</td>\n",
       "      <td>Jonathan Daniel Garavito</td>\n",
       "      <td>29</td>\n",
       "      <td>Male</td>\n",
       "      <td>Bachelor’s degree</td>\n",
       "      <td>Native speaker</td>\n",
       "      <td>7</td>\n",
       "      <td>['ABC News', 'MSNBC']</td>\n",
       "      <td>Every day</td>\n",
       "      <td>True</td>\n",
       "    </tr>\n",
       "  </tbody>\n",
       "</table>\n",
       "<p>5 rows × 24 columns</p>\n",
       "</div>"
      ],
      "text/plain": [
       "   Unnamed: 0.1  Unnamed: 0                  survey_record_id  \\\n",
       "0             0       19227  0045473f40ec42a2bd2ca0ee35df0b75   \n",
       "1             1       19228  0045473f40ec42a2bd2ca0ee35df0b75   \n",
       "2             2       19229  0045473f40ec42a2bd2ca0ee35df0b75   \n",
       "3             3       19231  0045473f40ec42a2bd2ca0ee35df0b75   \n",
       "4             4       19232  0045473f40ec42a2bd2ca0ee35df0b75   \n",
       "\n",
       "                        sentence_id  sentence_group_id           created_at  \\\n",
       "0  06e9e57e549d4dd48d8ac649ff81fd2e                 67  2020-08-12 06:09:53   \n",
       "1  07f2137fd3ae4dd2b5c990b93e5c2a62                 67  2020-08-12 06:10:21   \n",
       "2  10a5e68a84ab4c1a83d861b87c57def9                 67  2020-08-12 06:10:35   \n",
       "3  17e77a14ecaa478fa81cf80e10f92e50                 67  2020-08-12 06:10:51   \n",
       "4  251232bf6ddf4bcbac7fb40a8aec1964                 67  2020-08-12 06:11:04   \n",
       "\n",
       "        label words                                factual  group_id  ...  \\\n",
       "0  Non-biased   NaN                       Entirely factual        67  ...   \n",
       "1  Non-biased   NaN             Expresses writer’s opinion        67  ...   \n",
       "2  Non-biased   NaN  Somewhat factual but also opinionated        67  ...   \n",
       "3  Non-biased   NaN             Expresses writer’s opinion        67  ...   \n",
       "4  Non-biased   NaN             Expresses writer’s opinion        67  ...   \n",
       "\n",
       "       outlet                  mturk_id age gender          education  \\\n",
       "0   breitbart  Jonathan Daniel Garavito  29   Male  Bachelor’s degree   \n",
       "1    alternet  Jonathan Daniel Garavito  29   Male  Bachelor’s degree   \n",
       "2       msnbc  Jonathan Daniel Garavito  29   Male  Bachelor’s degree   \n",
       "3   breitbart  Jonathan Daniel Garavito  29   Male  Bachelor’s degree   \n",
       "4  federalist  Jonathan Daniel Garavito  29   Male  Bachelor’s degree   \n",
       "\n",
       "  native_english_speaker  political_ideology  followed_news_outlets  \\\n",
       "0         Native speaker                   7  ['ABC News', 'MSNBC']   \n",
       "1         Native speaker                   7  ['ABC News', 'MSNBC']   \n",
       "2         Native speaker                   7  ['ABC News', 'MSNBC']   \n",
       "3         Native speaker                   7  ['ABC News', 'MSNBC']   \n",
       "4         Native speaker                   7  ['ABC News', 'MSNBC']   \n",
       "\n",
       "  news_check_frequency survey_completed  \n",
       "0            Every day             True  \n",
       "1            Every day             True  \n",
       "2            Every day             True  \n",
       "3            Every day             True  \n",
       "4            Every day             True  \n",
       "\n",
       "[5 rows x 24 columns]"
      ]
     },
     "execution_count": 7,
     "metadata": {},
     "output_type": "execute_result"
    }
   ],
   "source": [
    "news_data.head()"
   ]
  },
  {
   "cell_type": "code",
   "execution_count": 8,
   "id": "62ae50f2-ffb2-439a-ac40-bd1314c29369",
   "metadata": {},
   "outputs": [
    {
     "data": {
      "text/plain": [
       "Index(['Unnamed: 0.1', 'Unnamed: 0', 'survey_record_id', 'sentence_id',\n",
       "       'sentence_group_id', 'created_at', 'label', 'words', 'factual',\n",
       "       'group_id', 'text', 'link', 'type', 'topic', 'outlet', 'mturk_id',\n",
       "       'age', 'gender', 'education', 'native_english_speaker',\n",
       "       'political_ideology', 'followed_news_outlets', 'news_check_frequency',\n",
       "       'survey_completed'],\n",
       "      dtype='object')"
      ]
     },
     "execution_count": 8,
     "metadata": {},
     "output_type": "execute_result"
    }
   ],
   "source": [
    "news_data.columns"
   ]
  },
  {
   "cell_type": "code",
   "execution_count": 6,
   "id": "d30559db-79b3-4dce-aff1-b0b97fb0c93c",
   "metadata": {},
   "outputs": [
    {
     "data": {
      "text/html": [
       "<div>\n",
       "<style scoped>\n",
       "    .dataframe tbody tr th:only-of-type {\n",
       "        vertical-align: middle;\n",
       "    }\n",
       "\n",
       "    .dataframe tbody tr th {\n",
       "        vertical-align: top;\n",
       "    }\n",
       "\n",
       "    .dataframe thead th {\n",
       "        text-align: right;\n",
       "    }\n",
       "</style>\n",
       "<table border=\"1\" class=\"dataframe\">\n",
       "  <thead>\n",
       "    <tr style=\"text-align: right;\">\n",
       "      <th></th>\n",
       "      <th>Unnamed: 0.1</th>\n",
       "      <th>Unnamed: 0</th>\n",
       "      <th>sentence_group_id</th>\n",
       "      <th>group_id</th>\n",
       "      <th>age</th>\n",
       "      <th>political_ideology</th>\n",
       "    </tr>\n",
       "  </thead>\n",
       "  <tbody>\n",
       "    <tr>\n",
       "      <th>count</th>\n",
       "      <td>17775.000000</td>\n",
       "      <td>17775.000000</td>\n",
       "      <td>17775.000000</td>\n",
       "      <td>17775.000000</td>\n",
       "      <td>17775.000000</td>\n",
       "      <td>17775.000000</td>\n",
       "    </tr>\n",
       "    <tr>\n",
       "      <th>mean</th>\n",
       "      <td>11278.431505</td>\n",
       "      <td>12984.615809</td>\n",
       "      <td>42.912236</td>\n",
       "      <td>42.912236</td>\n",
       "      <td>37.735640</td>\n",
       "      <td>-1.474205</td>\n",
       "    </tr>\n",
       "    <tr>\n",
       "      <th>std</th>\n",
       "      <td>6528.730534</td>\n",
       "      <td>6773.907595</td>\n",
       "      <td>24.645737</td>\n",
       "      <td>24.645737</td>\n",
       "      <td>10.986286</td>\n",
       "      <td>6.454495</td>\n",
       "    </tr>\n",
       "    <tr>\n",
       "      <th>min</th>\n",
       "      <td>0.000000</td>\n",
       "      <td>0.000000</td>\n",
       "      <td>1.000000</td>\n",
       "      <td>1.000000</td>\n",
       "      <td>0.000000</td>\n",
       "      <td>-10.000000</td>\n",
       "    </tr>\n",
       "    <tr>\n",
       "      <th>25%</th>\n",
       "      <td>5440.500000</td>\n",
       "      <td>8109.500000</td>\n",
       "      <td>21.000000</td>\n",
       "      <td>21.000000</td>\n",
       "      <td>29.000000</td>\n",
       "      <td>-7.000000</td>\n",
       "    </tr>\n",
       "    <tr>\n",
       "      <th>50%</th>\n",
       "      <td>11364.000000</td>\n",
       "      <td>13651.000000</td>\n",
       "      <td>43.000000</td>\n",
       "      <td>43.000000</td>\n",
       "      <td>35.000000</td>\n",
       "      <td>-2.000000</td>\n",
       "    </tr>\n",
       "    <tr>\n",
       "      <th>75%</th>\n",
       "      <td>16936.500000</td>\n",
       "      <td>18853.500000</td>\n",
       "      <td>64.000000</td>\n",
       "      <td>64.000000</td>\n",
       "      <td>45.000000</td>\n",
       "      <td>4.000000</td>\n",
       "    </tr>\n",
       "    <tr>\n",
       "      <th>max</th>\n",
       "      <td>22470.000000</td>\n",
       "      <td>23566.000000</td>\n",
       "      <td>85.000000</td>\n",
       "      <td>85.000000</td>\n",
       "      <td>71.000000</td>\n",
       "      <td>10.000000</td>\n",
       "    </tr>\n",
       "  </tbody>\n",
       "</table>\n",
       "</div>"
      ],
      "text/plain": [
       "       Unnamed: 0.1    Unnamed: 0  sentence_group_id      group_id  \\\n",
       "count  17775.000000  17775.000000       17775.000000  17775.000000   \n",
       "mean   11278.431505  12984.615809          42.912236     42.912236   \n",
       "std     6528.730534   6773.907595          24.645737     24.645737   \n",
       "min        0.000000      0.000000           1.000000      1.000000   \n",
       "25%     5440.500000   8109.500000          21.000000     21.000000   \n",
       "50%    11364.000000  13651.000000          43.000000     43.000000   \n",
       "75%    16936.500000  18853.500000          64.000000     64.000000   \n",
       "max    22470.000000  23566.000000          85.000000     85.000000   \n",
       "\n",
       "                age  political_ideology  \n",
       "count  17775.000000        17775.000000  \n",
       "mean      37.735640           -1.474205  \n",
       "std       10.986286            6.454495  \n",
       "min        0.000000          -10.000000  \n",
       "25%       29.000000           -7.000000  \n",
       "50%       35.000000           -2.000000  \n",
       "75%       45.000000            4.000000  \n",
       "max       71.000000           10.000000  "
      ]
     },
     "execution_count": 6,
     "metadata": {},
     "output_type": "execute_result"
    }
   ],
   "source": [
    "news_data.describe()"
   ]
  },
  {
   "cell_type": "code",
   "execution_count": 9,
   "id": "79ef1b36-dd90-47b2-b0f0-d174b2924dc6",
   "metadata": {},
   "outputs": [
    {
     "data": {
      "text/plain": [
       "Biased        10651\n",
       "Non-biased     7124\n",
       "Name: label, dtype: int64"
      ]
     },
     "execution_count": 9,
     "metadata": {},
     "output_type": "execute_result"
    }
   ],
   "source": [
    "news_data['label'].value_counts()"
   ]
  },
  {
   "cell_type": "code",
   "execution_count": 10,
   "id": "c904cfaa-f80f-4d93-af7f-e050c3af1c45",
   "metadata": {},
   "outputs": [
    {
     "data": {
      "text/plain": [
       "Entirely factual                         6034\n",
       "Expresses writer’s opinion               5945\n",
       "Somewhat factual but also opinionated    5796\n",
       "Name: factual, dtype: int64"
      ]
     },
     "execution_count": 10,
     "metadata": {},
     "output_type": "execute_result"
    }
   ],
   "source": [
    "news_data['factual'].value_counts()"
   ]
  },
  {
   "cell_type": "code",
   "execution_count": 11,
   "id": "ba826823-427f-40cf-925e-a03d8f25d6eb",
   "metadata": {},
   "outputs": [
    {
     "data": {
      "text/plain": [
       "0        The transgender effort to suppress any recogni...\n",
       "1        Radical Virginia Citizens Defense League has o...\n",
       "2        Miller is the architect of President Donald Tr...\n",
       "3        The House Democrats’ 1,400-page coronavirus re...\n",
       "4        A specter is haunting the West; our elites see...\n",
       "                               ...                        \n",
       "17770    Oregon first graders could attend gun safety c...\n",
       "17771    But President Donald Trump and his campaign ad...\n",
       "17772    The normalization effort included softened rhe...\n",
       "17773    And so, while demonstrations began to spread a...\n",
       "17774    House and Senate Democrats are responding to t...\n",
       "Name: text, Length: 17775, dtype: object"
      ]
     },
     "execution_count": 11,
     "metadata": {},
     "output_type": "execute_result"
    }
   ],
   "source": [
    "news_data['text']"
   ]
  },
  {
   "cell_type": "code",
   "execution_count": 12,
   "id": "45e6945b-471b-4f07-a61a-741706f0758f",
   "metadata": {},
   "outputs": [
    {
     "data": {
      "text/plain": [
       "environment                              1407\n",
       "white-nationalism                        1372\n",
       "gender                                   1339\n",
       "student-debt                             1332\n",
       "sport                                    1320\n",
       "abortion                                 1320\n",
       "gun-control                              1296\n",
       "immigration                              1276\n",
       "coronavirus                              1275\n",
       "vaccines                                 1275\n",
       "trump-presidency                         1255\n",
       "middle-class                             1227\n",
       "elections-2020                           1159\n",
       "international-politics-and-world-news     922\n",
       "Name: topic, dtype: int64"
      ]
     },
     "execution_count": 12,
     "metadata": {},
     "output_type": "execute_result"
    }
   ],
   "source": [
    "news_data['topic'].value_counts()"
   ]
  },
  {
   "cell_type": "code",
   "execution_count": 13,
   "id": "f7a52451-a5ae-4ab2-aab1-eb9229152a1c",
   "metadata": {},
   "outputs": [
    {
     "data": {
      "text/plain": [
       "True    17775\n",
       "Name: survey_completed, dtype: int64"
      ]
     },
     "execution_count": 13,
     "metadata": {},
     "output_type": "execute_result"
    }
   ],
   "source": [
    "news_data['survey_completed'].value_counts()"
   ]
  },
  {
   "cell_type": "code",
   "execution_count": 25,
   "id": "3d2cb82e-8438-47ac-b983-77060941fcc3",
   "metadata": {},
   "outputs": [],
   "source": [
    "news_data[\"new_label\"]=np.where(news_data[\"label\"]==\"Biased\",1,0)"
   ]
  },
  {
   "cell_type": "code",
   "execution_count": 50,
   "id": "9f072ae0-8ecb-4d49-9c50-7f19f499e055",
   "metadata": {},
   "outputs": [],
   "source": [
    "news_data['new_label'] = news_data['new_label'].astype('int64')"
   ]
  },
  {
   "cell_type": "code",
   "execution_count": 51,
   "id": "5117177d-0749-45f0-8589-db9b7698b75a",
   "metadata": {},
   "outputs": [
    {
     "data": {
      "text/plain": [
       "1    10651\n",
       "0     7124\n",
       "Name: new_label, dtype: int64"
      ]
     },
     "execution_count": 51,
     "metadata": {},
     "output_type": "execute_result"
    }
   ],
   "source": [
    "news_data[\"new_label\"].value_counts()"
   ]
  },
  {
   "cell_type": "markdown",
   "id": "8732f3bb-2c1c-4c0f-a7d0-9130c54442ea",
   "metadata": {},
   "source": [
    "# Using BERT model to fine tune"
   ]
  },
  {
   "cell_type": "code",
   "execution_count": 52,
   "id": "a92733f0-6bc5-465a-92e8-ff8c603ffcc1",
   "metadata": {},
   "outputs": [],
   "source": [
    "text = news_data.text.values\n",
    "labels = news_data.new_label.values"
   ]
  },
  {
   "cell_type": "code",
   "execution_count": 19,
   "id": "aa3630ea-a0f1-4d61-aa2a-a3121663dba4",
   "metadata": {},
   "outputs": [
    {
     "name": "stderr",
     "output_type": "stream",
     "text": [
      "Downloading: 100%|██████████████████████████████████████████████████████████████████| 226k/226k [00:00<00:00, 3.46MB/s]\n",
      "Downloading: 100%|██████████████████████████████████████████████████████████████████| 28.0/28.0 [00:00<00:00, 28.2kB/s]\n",
      "Downloading: 100%|█████████████████████████████████████████████████████████████████████| 570/570 [00:00<00:00, 286kB/s]\n"
     ]
    }
   ],
   "source": [
    "tokenizer = BertTokenizer.from_pretrained(\n",
    "    'bert-base-uncased',\n",
    "    do_lower_case = True\n",
    "    )"
   ]
  },
  {
   "cell_type": "code",
   "execution_count": 21,
   "id": "acfc3ada-3caa-4123-b5b0-de72417ceed5",
   "metadata": {},
   "outputs": [],
   "source": [
    "token_id = []\n",
    "attention_masks = []\n",
    "def preprocessing(input_text, tokenizer):\n",
    "  '''\n",
    "  Returns <class transformers.tokenization_utils_base.BatchEncoding> with the following fields:\n",
    "    - input_ids: list of token ids\n",
    "    - token_type_ids: list of token type ids\n",
    "    - attention_mask: list of indices (0,1) specifying which tokens should considered by the model (return_attention_mask = True).\n",
    "  '''\n",
    "  return tokenizer.encode_plus(\n",
    "                        input_text,\n",
    "                        add_special_tokens = True,\n",
    "                        max_length = 32,\n",
    "                        pad_to_max_length = True,\n",
    "                        return_attention_mask = True,\n",
    "                        return_tensors = 'pt'\n",
    "                   )\n",
    "\n",
    "\n",
    "for sample in text:\n",
    "    encoding_dict = preprocessing(sample, tokenizer)\n",
    "    token_id.append(encoding_dict['input_ids']) \n",
    "    attention_masks.append(encoding_dict['attention_mask'])\n",
    "\n",
    "\n",
    "token_id = torch.cat(token_id, dim = 0)\n",
    "attention_masks = torch.cat(attention_masks, dim = 0)"
   ]
  },
  {
   "cell_type": "code",
   "execution_count": 22,
   "id": "c86be678-f430-4afe-a5a5-860160253585",
   "metadata": {},
   "outputs": [
    {
     "data": {
      "text/plain": [
       "torch.Size([17775, 32])"
      ]
     },
     "execution_count": 22,
     "metadata": {},
     "output_type": "execute_result"
    }
   ],
   "source": [
    "token_id.shape"
   ]
  },
  {
   "cell_type": "code",
   "execution_count": 23,
   "id": "9d70f6f4-7f33-4c2a-8a3b-2923fe8f0386",
   "metadata": {},
   "outputs": [
    {
     "data": {
      "text/plain": [
       "torch.Size([17775, 32])"
      ]
     },
     "execution_count": 23,
     "metadata": {},
     "output_type": "execute_result"
    }
   ],
   "source": [
    "attention_masks.shape"
   ]
  },
  {
   "cell_type": "code",
   "execution_count": 53,
   "id": "2cd3c57d-7303-4689-8c40-73de28d49eb0",
   "metadata": {},
   "outputs": [],
   "source": [
    "labels = torch.tensor(labels)"
   ]
  },
  {
   "cell_type": "code",
   "execution_count": 29,
   "id": "b3549120-558f-4acd-b4ca-5f126a4e7c2b",
   "metadata": {},
   "outputs": [
    {
     "data": {
      "text/plain": [
       "torch.Size([17775])"
      ]
     },
     "execution_count": 29,
     "metadata": {},
     "output_type": "execute_result"
    }
   ],
   "source": [
    "labels.shape"
   ]
  },
  {
   "cell_type": "code",
   "execution_count": 70,
   "id": "7e58477a-6e4e-4464-9788-f2ed213e9207",
   "metadata": {},
   "outputs": [],
   "source": [
    "val_ratio = 0.3\n",
    "batch_size = 16\n",
    "train_idx, val_idx = train_test_split(\n",
    "    np.arange(len(labels)),\n",
    "    test_size = val_ratio,\n",
    "    shuffle = True,\n",
    "    stratify = labels)"
   ]
  },
  {
   "cell_type": "code",
   "execution_count": 71,
   "id": "1c2ffb75-59f5-455e-8a5b-3a0991163084",
   "metadata": {},
   "outputs": [],
   "source": [
    "# Train and validation sets\n",
    "train_set = TensorDataset(token_id[train_idx], \n",
    "                          attention_masks[train_idx], \n",
    "                          labels[train_idx])\n",
    "\n",
    "val_set = TensorDataset(token_id[val_idx], \n",
    "                        attention_masks[val_idx], \n",
    "                        labels[val_idx])"
   ]
  },
  {
   "cell_type": "code",
   "execution_count": 72,
   "id": "e4b715a0-935a-445f-a876-7624376a2560",
   "metadata": {},
   "outputs": [],
   "source": [
    "# Prepare DataLoader\n",
    "train_dataloader = DataLoader(\n",
    "            train_set,\n",
    "            sampler = RandomSampler(train_set),\n",
    "            batch_size = batch_size\n",
    "        )\n",
    "\n",
    "validation_dataloader = DataLoader(\n",
    "            val_set,\n",
    "            sampler = SequentialSampler(val_set),\n",
    "            batch_size = batch_size\n",
    "        )"
   ]
  },
  {
   "cell_type": "code",
   "execution_count": 73,
   "id": "561115b6-eca2-47ee-887d-e4819ba3909d",
   "metadata": {},
   "outputs": [
    {
     "name": "stderr",
     "output_type": "stream",
     "text": [
      "Some weights of the model checkpoint at bert-base-uncased were not used when initializing BertForSequenceClassification: ['cls.predictions.transform.dense.bias', 'cls.seq_relationship.weight', 'cls.seq_relationship.bias', 'cls.predictions.transform.LayerNorm.bias', 'cls.predictions.transform.dense.weight', 'cls.predictions.transform.LayerNorm.weight', 'cls.predictions.bias', 'cls.predictions.decoder.weight']\n",
      "- This IS expected if you are initializing BertForSequenceClassification from the checkpoint of a model trained on another task or with another architecture (e.g. initializing a BertForSequenceClassification model from a BertForPreTraining model).\n",
      "- This IS NOT expected if you are initializing BertForSequenceClassification from the checkpoint of a model that you expect to be exactly identical (initializing a BertForSequenceClassification model from a BertForSequenceClassification model).\n",
      "Some weights of BertForSequenceClassification were not initialized from the model checkpoint at bert-base-uncased and are newly initialized: ['classifier.bias', 'classifier.weight']\n",
      "You should probably TRAIN this model on a down-stream task to be able to use it for predictions and inference.\n"
     ]
    }
   ],
   "source": [
    "# Load the BertForSequenceClassification model\n",
    "model = BertForSequenceClassification.from_pretrained(\n",
    "    'bert-base-uncased',\n",
    "    num_labels = 2,\n",
    "    output_attentions = False,\n",
    "    output_hidden_states = False,\n",
    ")\n",
    "# Recommended learning rates (Adam): 5e-5, 3e-5, 2e-5. See: https://arxiv.org/pdf/1810.04805.pdf\n",
    "optimizer = torch.optim.AdamW(model.parameters(), \n",
    "                              lr = 3e-5,\n",
    "                              eps = 1e-08\n",
    "                              )\n",
    "\n",
    "# Run on GPU\n",
    "#model()"
   ]
  },
  {
   "cell_type": "code",
   "execution_count": 74,
   "id": "4bb340e3-4e52-4f19-8ec4-cd742df1b3b7",
   "metadata": {},
   "outputs": [],
   "source": [
    "device = torch.device('cuda' if torch.cuda.is_available() else 'cpu')"
   ]
  },
  {
   "cell_type": "code",
   "execution_count": 75,
   "id": "0649195e-6c93-4993-94dd-61a901e0d7d5",
   "metadata": {},
   "outputs": [],
   "source": [
    "def b_tp(preds, labels):\n",
    "  '''Returns True Positives (TP): count of correct predictions of actual class 1'''\n",
    "  return sum([preds == labels and preds == 1 for preds, labels in zip(preds, labels)])\n",
    "\n",
    "def b_fp(preds, labels):\n",
    "  '''Returns False Positives (FP): count of wrong predictions of actual class 1'''\n",
    "  return sum([preds != labels and preds == 1 for preds, labels in zip(preds, labels)])\n",
    "\n",
    "def b_tn(preds, labels):\n",
    "  '''Returns True Negatives (TN): count of correct predictions of actual class 0'''\n",
    "  return sum([preds == labels and preds == 0 for preds, labels in zip(preds, labels)])\n",
    "\n",
    "def b_fn(preds, labels):\n",
    "  '''Returns False Negatives (FN): count of wrong predictions of actual class 0'''\n",
    "  return sum([preds != labels and preds == 0 for preds, labels in zip(preds, labels)])\n",
    "\n",
    "def b_metrics(preds, labels):\n",
    "    '''\n",
    "    Returns the following metrics:\n",
    "    - accuracy    = (TP + TN) / N\n",
    "    - precision   = TP / (TP + FP)\n",
    "    - recall      = TP / (TP + FN)\n",
    "    - specificity = TN / (TN + FP)\n",
    "    '''\n",
    "    preds = np.argmax(preds, axis = 1).flatten()\n",
    "    labels = labels.flatten()\n",
    "    tp = b_tp(preds, labels)\n",
    "    tn = b_tn(preds, labels)\n",
    "    fp = b_fp(preds, labels)\n",
    "    fn = b_fn(preds, labels)\n",
    "    b_accuracy = (tp + tn) / len(labels)\n",
    "    b_precision = tp / (tp + fp) if (tp + fp) > 0 else 'nan'\n",
    "    b_recall = tp / (tp + fn) if (tp + fn) > 0 else 'nan'\n",
    "    b_specificity = tn / (tn + fp) if (tn + fp) > 0 else 'nan'\n",
    "    return b_accuracy, b_precision, b_recall, b_specificity"
   ]
  },
  {
   "cell_type": "markdown",
   "id": "9efd6b71-bec9-4623-beaa-c09dd69c6a5f",
   "metadata": {},
   "source": [
    "# Model Training"
   ]
  },
  {
   "cell_type": "code",
   "execution_count": 76,
   "id": "eb2eeabd-bf0b-4fa5-badd-22218f4d1b90",
   "metadata": {},
   "outputs": [],
   "source": [
    "def train_model(epochs):\n",
    "    for _ in trange(epochs, desc = 'Epoch'):\n",
    "\n",
    "        # ========== Training ==========\n",
    "\n",
    "        # Set model to training mode\n",
    "        model.train()\n",
    "\n",
    "        # Tracking variables\n",
    "        tr_loss = 0\n",
    "        nb_tr_examples, nb_tr_steps = 0, 0\n",
    "\n",
    "        for step, batch in enumerate(train_dataloader):\n",
    "            batch = tuple(t.to(device) for t in batch)\n",
    "            b_input_ids, b_input_mask, b_labels = batch\n",
    "            #print(batch)\n",
    "            optimizer.zero_grad()\n",
    "            # Forward pass\n",
    "            train_output = model(b_input_ids, \n",
    "                                 token_type_ids = None, \n",
    "                                 attention_mask = b_input_mask, \n",
    "                                 labels = b_labels)\n",
    "            # Backward pass\n",
    "            train_output.loss.backward()\n",
    "            optimizer.step()\n",
    "            # Update tracking variables\n",
    "            tr_loss += train_output.loss.item()\n",
    "            nb_tr_examples += b_input_ids.size(0)\n",
    "            nb_tr_steps += 1\n",
    "\n",
    "        # ========== Validation ==========\n",
    "\n",
    "        # Set model to evaluation mode\n",
    "        model.eval()\n",
    "\n",
    "        # Tracking variables \n",
    "        val_accuracy = []\n",
    "        val_precision = []\n",
    "        val_recall = []\n",
    "        val_specificity = []\n",
    "\n",
    "        for batch in validation_dataloader:\n",
    "            batch = tuple(t.to(device) for t in batch)\n",
    "            b_input_ids, b_input_mask, b_labels = batch\n",
    "            with torch.no_grad():\n",
    "              # Forward pass\n",
    "              eval_output = model(b_input_ids, \n",
    "                                  token_type_ids = None, \n",
    "                                  attention_mask = b_input_mask)\n",
    "            logits = eval_output.logits.detach().cpu().numpy()\n",
    "            label_ids = b_labels.to('cpu').numpy()\n",
    "            # Calculate validation metrics\n",
    "            b_accuracy, b_precision, b_recall, b_specificity = b_metrics(logits, label_ids)\n",
    "            val_accuracy.append(b_accuracy)\n",
    "            # Update precision only when (tp + fp) !=0; ignore nan\n",
    "            if b_precision != 'nan': val_precision.append(b_precision)\n",
    "            # Update recall only when (tp + fn) !=0; ignore nan\n",
    "            if b_recall != 'nan': val_recall.append(b_recall)\n",
    "            # Update specificity only when (tn + fp) !=0; ignore nan\n",
    "            if b_specificity != 'nan': val_specificity.append(b_specificity)\n",
    "\n",
    "        print('\\n\\t - Train loss: {:.4f}'.format(tr_loss / nb_tr_steps))\n",
    "        print('\\t - Validation Accuracy: {:.4f}'.format(sum(val_accuracy)/len(val_accuracy)))\n",
    "        print('\\t - Validation Precision: {:.4f}'.format(sum(val_precision)/len(val_precision)) if len(val_precision)>0 else '\\t - Validation Precision: NaN')\n",
    "        print('\\t - Validation Recall: {:.4f}'.format(sum(val_recall)/len(val_recall)) if len(val_recall)>0 else '\\t - Validation Recall: NaN')\n",
    "        print('\\t - Validation Specificity: {:.4f}\\n'.format(sum(val_specificity)/len(val_specificity)) if len(val_specificity)>0 else '\\t - Validation Specificity: NaN')"
   ]
  },
  {
   "cell_type": "code",
   "execution_count": 77,
   "id": "9913161a-579b-4b9e-a6d7-560f2465d6cd",
   "metadata": {},
   "outputs": [
    {
     "name": "stderr",
     "output_type": "stream",
     "text": [
      "Epoch:  50%|█████████████████████████████████████▌                                     | 1/2 [32:25<32:25, 1945.87s/it]"
     ]
    },
    {
     "name": "stdout",
     "output_type": "stream",
     "text": [
      "\n",
      "\t - Train loss: 0.6264\n",
      "\t - Validation Accuracy: 0.6683\n",
      "\t - Validation Precision: 0.6777\n",
      "\t - Validation Recall: 0.8569\n",
      "\t - Validation Specificity: 0.3935\n",
      "\n"
     ]
    },
    {
     "name": "stderr",
     "output_type": "stream",
     "text": [
      "Epoch: 100%|█████████████████████████████████████████████████████████████████████████| 2/2 [1:02:45<00:00, 1882.59s/it]"
     ]
    },
    {
     "name": "stdout",
     "output_type": "stream",
     "text": [
      "\n",
      "\t - Train loss: 0.5816\n",
      "\t - Validation Accuracy: 0.6722\n",
      "\t - Validation Precision: 0.7189\n",
      "\t - Validation Recall: 0.7431\n",
      "\t - Validation Specificity: 0.5653\n",
      "\n"
     ]
    },
    {
     "name": "stderr",
     "output_type": "stream",
     "text": [
      "\n"
     ]
    }
   ],
   "source": [
    "epochs = 2\n",
    "train_model(epochs)"
   ]
  },
  {
   "cell_type": "markdown",
   "id": "36edeedd-2a6e-4ce1-b1fe-db0f17f9b21b",
   "metadata": {},
   "source": [
    "# Model Inference"
   ]
  },
  {
   "cell_type": "code",
   "execution_count": 82,
   "id": "48508331-a043-4643-9040-83c0ed4a9d8f",
   "metadata": {},
   "outputs": [
    {
     "name": "stdout",
     "output_type": "stream",
     "text": [
      "Input Sentence:  Indian people are smart in thier work\n",
      "Predicted Class:  Biased\n"
     ]
    }
   ],
   "source": [
    "new_sentence = 'Indian people are smart in thier work'\n",
    "\n",
    "# We need Token IDs and Attention Mask for inference on the new sentence\n",
    "test_ids = []\n",
    "test_attention_mask = []\n",
    "\n",
    "# Apply the tokenizer\n",
    "encoding = preprocessing(new_sentence, tokenizer)\n",
    "\n",
    "# Extract IDs and Attention Mask\n",
    "test_ids.append(encoding['input_ids'])\n",
    "test_attention_mask.append(encoding['attention_mask'])\n",
    "test_ids = torch.cat(test_ids, dim = 0)\n",
    "test_attention_mask = torch.cat(test_attention_mask, dim = 0)\n",
    "\n",
    "# Forward pass, calculate logit predictions\n",
    "with torch.no_grad():\n",
    "  output = model(test_ids.to(device), token_type_ids = None, attention_mask = test_attention_mask.to(device))\n",
    "\n",
    "prediction = 'Biased' if np.argmax(output.logits.cpu().numpy()).flatten().item() == 1 else 'Unbiased'\n",
    "\n",
    "print('Input Sentence: ', new_sentence)\n",
    "print('Predicted Class: ', prediction)"
   ]
  },
  {
   "cell_type": "code",
   "execution_count": null,
   "id": "c6b3eec0-8c66-4926-a648-ea8b25ebc933",
   "metadata": {},
   "outputs": [],
   "source": []
  }
 ],
 "metadata": {
  "kernelspec": {
   "display_name": "envjbsrch",
   "language": "python",
   "name": "envjbsrch"
  },
  "language_info": {
   "codemirror_mode": {
    "name": "ipython",
    "version": 3
   },
   "file_extension": ".py",
   "mimetype": "text/x-python",
   "name": "python",
   "nbconvert_exporter": "python",
   "pygments_lexer": "ipython3",
   "version": "3.9.12"
  }
 },
 "nbformat": 4,
 "nbformat_minor": 5
}
